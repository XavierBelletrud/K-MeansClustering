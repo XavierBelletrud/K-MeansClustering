{
 "cells": [
  {
   "cell_type": "markdown",
   "metadata": {},
   "source": [
    "# K-Means Clustering Brief"
   ]
  },
  {
   "cell_type": "markdown",
   "metadata": {},
   "source": [
    "## Description\n",
    "Découvrir l'apprentissage non-supervisé au travers de l'algorithme K-means.\n",
    "\n",
    "## Contexte\n",
    "L'apprentissage supervisé ce présente comme une approche de l'apprentissage automatique qui permet de découvrir la structure sous-jacente des données en l'absence d'étiquetage, c'est à dire sans catégories ou classe connue en avance.\n",
    "\n",
    "Afin de se familiariser avec cette approche et mieux l'appréhender pour l'utiliser dans des scénario plus complexe, les objectifs sont les suivants :\n",
    "\n",
    "Nous souhaitons comprendre le principe de cette technique et les scénarios d'utilisation\n",
    "Expérimenter et évaluer un algorithme de cet classe de problème d'apprentissage : les K-moyennes (ou K-means) sur un jeu de données simple.\n",
    "Comprendre et comparer les métrique d'évaluation en jeux\n",
    "tester sur des jeux précédemment utilisé de classification, la capacité de l'algorithme à retrouver les catégories de prédiction.\n",
    "\n",
    "## Question de veilles:\n",
    "\n",
    "**1. Qu'est ce que le clustering ? Est ce un probleme difficile ? pourquoi ?**\n",
    "\n",
    "**2. Qu'elle est la compléxité d'un probléme de clustering ? Quelle sont les métrique utilisé pour le clustering ?**\n",
    "\n",
    "**3. Ecriver en une phrase votre comprhéension pour chaque métrique découverte**\n",
    "\n",
    "**4. Séparer les métrique avec \"ground truth\" et \"sans \"ground truth\".**\n",
    "\n",
    "**5. Différences entre NMI et AMI ?**\n",
    "\n",
    "## Ressources\n",
    "https://le-datascientist.fr/apprentissage-supervise-vs-non-supervise  <br>\n",
    "https://realpython.com/k-means-clustering-python/#writing-your-first-k-means-clustering-code-in-python <br>\n",
    "(fr) https://mrmint.fr/algorithme-k-means <br>\n",
    "https://scikit-learn.org/stable/modules/clustering.html#clustering <br>\n",
    "https://scikit-learn.org/stable/modules/clustering.html#clustering-evaluation <br>\n",
    "\n",
    "## Livrable\n",
    "Un git par apprenant avec les éléments suivants:\n",
    "\n",
    "Un notebook, résumant le travail\n",
    "\n",
    "## Modalité pédagogique\n",
    "durée: 2 jours groupe: individuel"
   ]
  },
  {
   "cell_type": "markdown",
   "metadata": {},
   "source": [
    "### 1.1 Qu'est ce que le clustering ? \n",
    "Le clustering est une méthode d'apprentissage automatique qui consiste à regrouper des points donnés par similarité ou par distance. C'est une méthode d'apprentissage non supervisé et une technique populaire d'analyse statistique des données.\n",
    "\n",
    "Pour un ensemble donné de points, vous pouvez utiliser des algorithme de classification pour classer ces points individuels dans des groupes spécifiques. \n",
    "\n",
    "En conséquence, les points de données d'un groupe particulier présente des propriétés similaires. Dans un même temps, les points de données de différents groupe ont des caractéristiques différentes. \n",
    "\n",
    "Le but des algorithmes de clustering ont plusieurs utilisation dans différents secteurs. Par exemple, vous avez besoin d'algorithme de classification pour classer les maladies en sciences médicale. Parallèlement, le clustering vous aide à classer vos clients dans le domaine des études de marché.\n",
    "\n",
    "Voici, quelques exemples populaire d'algorithme d'apprentissage automatique non supervisé :\n",
    ". K-Means clustering (le plus populaire) <br>\n",
    ". Dimensionality reduction <br>\n",
    ". Neural network/ Deep learning <br>\n",
    ". Principal component analysis <br>\n",
    ". singular Value Decomposition <br>\n",
    ". Independant Component Analysis <br>\n",
    ". Distribution Models <br>\n",
    ". Hierarchical Clustering <br>\n",
    "\n",
    "### 1.2 Est ce un probleme difficile ? pourquoi ?\n",
    "\n",
    "La difficulté du clustering va résider dans le choix du nombre de cluster qui doit être déterminé par l'utilisateur, l'algorithme n'étant pas suffisamment autonome pour le faire lui même. Cependant, une méthode tès efficace existe, permettant ainsi de déterminer le nombre de cluster idéal, \"la méthode Elbow\". \n",
    "Autre difficultés, la détermination des centroides (méthode k means ++)"
   ]
  },
  {
   "cell_type": "markdown",
   "metadata": {},
   "source": [
    "K-means algorithm allow you to classify your data for discovering groups "
   ]
  },
  {
   "cell_type": "markdown",
   "metadata": {},
   "source": [
    "### 2.1 Qu'elle est la compléxité d'un probléme de clustering ? \n",
    "Complexité en temps et en mémoire Big O\n",
    "\n",
    "\n",
    "### 2.2 Quelle sont les métrique utilisées pour le clustering ?\n",
    "\n",
    "Les metriques à utiliser sont les suivantes :\n",
    "* homogeneity_score,\n",
    "* completeness_score,\n",
    "* v_measure_score,\n",
    "* adjusted_rand_score,\n",
    "* adjusted_mutual_info_score,"
   ]
  },
  {
   "cell_type": "markdown",
   "metadata": {},
   "source": [
    "### 3. Ecriver en une phrase votre comprhéension pour chaque métrique découverte\n"
   ]
  },
  {
   "cell_type": "markdown",
   "metadata": {},
   "source": [
    "### 4. Séparer les métrique avec \"ground truth\" et \"sans \"ground truth\".\n"
   ]
  },
  {
   "cell_type": "markdown",
   "metadata": {},
   "source": [
    "### 5. Différences entre NMI et AMI ?"
   ]
  },
  {
   "cell_type": "markdown",
   "metadata": {},
   "source": [
    "## Code"
   ]
  },
  {
   "cell_type": "code",
   "execution_count": 31,
   "metadata": {},
   "outputs": [
    {
     "name": "stdout",
     "output_type": "stream",
     "text": [
      "# digits: 10; # samples: 1797; # features 64\n"
     ]
    }
   ],
   "source": [
    "import numpy as np\n",
    "from sklearn.datasets import load_digits\n",
    "\n",
    "data, labels = load_digits(return_X_y=True)\n",
    "(n_samples, n_features), n_digits = data.shape, np.unique(labels).size\n",
    "\n",
    "print(\n",
    "    f\"# digits: {n_digits}; # samples: {n_samples}; # features {n_features}\"\n",
    ")"
   ]
  },
  {
   "cell_type": "code",
   "execution_count": 32,
   "metadata": {},
   "outputs": [],
   "source": [
    "from time import time\n",
    "from sklearn import metrics\n",
    "from sklearn.pipeline import make_pipeline\n",
    "from sklearn.preprocessing import StandardScaler\n",
    "\n",
    "\n",
    "def bench_k_means(kmeans, name, data, labels):\n",
    "    \"\"\"Benchmark to evaluate the KMeans initialization methods.\n",
    "\n",
    "    Parameters\n",
    "    ----------\n",
    "    kmeans : KMeans instance\n",
    "        A :class:`~sklearn.cluster.KMeans` instance with the initialization\n",
    "        already set.\n",
    "    name : str\n",
    "        Name given to the strategy. It will be used to show the results in a\n",
    "        table.\n",
    "    data : ndarray of shape (n_samples, n_features)\n",
    "        The data to cluster.\n",
    "    labels : ndarray of shape (n_samples,)\n",
    "        The labels used to compute the clustering metrics which requires some\n",
    "        supervision.\n",
    "    \"\"\"\n",
    "    t0 = time()\n",
    "    estimator = make_pipeline(StandardScaler(), kmeans).fit(data)\n",
    "    fit_time = time() - t0\n",
    "    results = [name, fit_time, estimator[-1].inertia_]\n",
    "\n",
    "    # Define the metrics which require only the true labels and estimator\n",
    "    # labels\n",
    "    clustering_metrics = [\n",
    "        metrics.homogeneity_score,\n",
    "        metrics.completeness_score,\n",
    "        metrics.v_measure_score,\n",
    "        metrics.adjusted_rand_score,\n",
    "        metrics.adjusted_mutual_info_score,\n",
    "    ]\n",
    "    results += [m(labels, estimator[-1].labels_) for m in clustering_metrics]\n",
    "\n",
    "    # The silhouette score requires the full dataset\n",
    "    results += [\n",
    "        metrics.silhouette_score(data, estimator[-1].labels_,\n",
    "                                 metric=\"euclidean\", sample_size=300,)\n",
    "    ]\n",
    "\n",
    "    # Show the results\n",
    "    formatter_result = (\"{:9s}\\t{:.3f}s\\t{:.0f}\\t{:.3f}\\t{:.3f}\"\n",
    "                        \"\\t{:.3f}\\t{:.3f}\\t{:.3f}\\t{:.3f}\")\n",
    "    print(formatter_result.format(*results))"
   ]
  },
  {
   "cell_type": "code",
   "execution_count": 33,
   "metadata": {},
   "outputs": [
    {
     "name": "stdout",
     "output_type": "stream",
     "text": [
      "__________________________________________________________________________________\n",
      "init\t\ttime\tinertia\thomo\tcompl\tv-meas\tARI\tAMI\tsilhouette\n",
      "k-means++\t0.203s\t69485\t0.613\t0.660\t0.636\t0.482\t0.632\t0.152\n",
      "random   \t0.081s\t69952\t0.545\t0.616\t0.578\t0.415\t0.574\t0.147\n",
      "PCA-based\t0.030s\t72686\t0.636\t0.658\t0.647\t0.521\t0.643\t0.140\n",
      "__________________________________________________________________________________\n"
     ]
    }
   ],
   "source": [
    "from sklearn.cluster import KMeans\n",
    "from sklearn.decomposition import PCA\n",
    "\n",
    "print(82 * '_')\n",
    "print('init\\t\\ttime\\tinertia\\thomo\\tcompl\\tv-meas\\tARI\\tAMI\\tsilhouette')\n",
    "\n",
    "kmeans = KMeans(init=\"k-means++\", n_clusters=n_digits, n_init=4,\n",
    "                random_state=0)\n",
    "bench_k_means(kmeans=kmeans, name=\"k-means++\", data=data, labels=labels)\n",
    "\n",
    "kmeans = KMeans(init=\"random\", n_clusters=n_digits, n_init=4, random_state=0)\n",
    "bench_k_means(kmeans=kmeans, name=\"random\", data=data, labels=labels)\n",
    "\n",
    "pca = PCA(n_components=n_digits).fit(data)\n",
    "kmeans = KMeans(init=pca.components_, n_clusters=n_digits, n_init=1)\n",
    "bench_k_means(kmeans=kmeans, name=\"PCA-based\", data=data, labels=labels)\n",
    "\n",
    "print(82 * '_')"
   ]
  },
  {
   "cell_type": "code",
   "execution_count": 35,
   "metadata": {},
   "outputs": [
    {
     "data": {
      "image/png": "[encoded data removed]",
      "text/plain": [
       "<Figure size 432x288 with 1 Axes>"
      ]
     },
     "metadata": {},
     "output_type": "display_data"
    }
   ],
   "source": [
    "import matplotlib.pyplot as plt\n",
    "\n",
    "reduced_data = PCA(n_components=2).fit_transform(data)\n",
    "kmeans = KMeans(init=\"k-means++\", n_clusters=n_digits, n_init=4)\n",
    "kmeans.fit(reduced_data)\n",
    "\n",
    "# Step size of the mesh. Decrease to increase the quality of the VQ.\n",
    "h = .02     # point in the mesh [x_min, x_max]x[y_min, y_max].\n",
    "\n",
    "# Plot the decision boundary. For that, we will assign a color to each\n",
    "x_min, x_max = reduced_data[:, 0].min() - 1, reduced_data[:, 0].max() + 1\n",
    "y_min, y_max = reduced_data[:, 1].min() - 1, reduced_data[:, 1].max() + 1\n",
    "xx, yy = np.meshgrid(np.arange(x_min, x_max, h), np.arange(y_min, y_max, h))\n",
    "\n",
    "# Obtain labels for each point in mesh. Use last trained model.\n",
    "Z = kmeans.predict(np.c_[xx.ravel(), yy.ravel()])\n",
    "\n",
    "# Put the result into a color plot\n",
    "Z = Z.reshape(xx.shape)\n",
    "plt.figure(1)\n",
    "plt.clf()\n",
    "plt.imshow(Z, interpolation=\"nearest\",\n",
    "           extent=(xx.min(), xx.max(), yy.min(), yy.max()),\n",
    "           cmap=plt.cm.Paired, aspect=\"auto\", origin=\"lower\")\n",
    "\n",
    "plt.plot(reduced_data[:, 0], reduced_data[:, 1], 'k.', markersize=2)\n",
    "# Plot the centroids as a white X\n",
    "centroids = kmeans.cluster_centers_\n",
    "plt.scatter(centroids[:, 0], centroids[:, 1], marker=\"x\", s=169, linewidths=3,\n",
    "            color=\"w\", zorder=10)\n",
    "plt.title(\"K-means clustering on the digits dataset (PCA-reduced data)\\n\"\n",
    "          \"Centroids are marked with white cross\")\n",
    "plt.xlim(x_min, x_max)\n",
    "plt.ylim(y_min, y_max)\n",
    "plt.xticks(())\n",
    "plt.yticks(())\n",
    "plt.show()"
   ]
  },
  {
   "cell_type": "code",
   "execution_count": null,
   "metadata": {},
   "outputs": [],
   "source": []
  },
  {
   "cell_type": "code",
   "execution_count": null,
   "metadata": {},
   "outputs": [],
   "source": []
  },
  {
   "cell_type": "code",
   "execution_count": null,
   "metadata": {},
   "outputs": [],
   "source": []
  }
 ],
 "metadata": {
  "kernelspec": {
   "display_name": "Python 3",
   "language": "python",
   "name": "python3"
  },
  "language_info": {
   "codemirror_mode": {
    "name": "ipython",
    "version": 3
   },
   "file_extension": ".py",
   "mimetype": "text/x-python",
   "name": "python",
   "nbconvert_exporter": "python",
   "pygments_lexer": "ipython3",
   "version": "3.8.3"
  }
 },
 "nbformat": 4,
 "nbformat_minor": 4
}
